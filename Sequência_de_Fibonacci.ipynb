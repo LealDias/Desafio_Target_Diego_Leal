{
 "cells": [
  {
   "cell_type": "code",
   "execution_count": 8,
   "id": "8cd9e902-7c00-4701-b232-a410b25d3719",
   "metadata": {},
   "outputs": [],
   "source": [
    "def fibonacci(n):\n",
    "    \"\"\"Returns the first n numbers of the Fibonacci sequence.\"\"\"\n",
    "    if n == 0:\n",
    "        return []\n",
    "    elif n == 1:\n",
    "        return [0]\n",
    "    else:\n",
    "        sequence = [0, 1]\n",
    "        for i in range(2, n):\n",
    "            sequence.append(sequence[i-1] + sequence[i-2])\n",
    "        if n in sequence:\n",
    "            print(n, \"está na sequência de fibonacci!\")\n",
    "            \n",
    "        else:\n",
    "            print(n, \"não está na sequência de fibonacci!\")\n",
    "                \n",
    "        return sequence"
   ]
  },
  {
   "cell_type": "code",
   "execution_count": 9,
   "id": "78a27d3d-e85b-4400-a1fa-99ec6c6c8ef0",
   "metadata": {},
   "outputs": [
    {
     "name": "stdout",
     "output_type": "stream",
     "text": [
      "21 está na sequência de fibonacci!\n"
     ]
    },
    {
     "data": {
      "text/plain": [
       "[0,\n",
       " 1,\n",
       " 1,\n",
       " 2,\n",
       " 3,\n",
       " 5,\n",
       " 8,\n",
       " 13,\n",
       " 21,\n",
       " 34,\n",
       " 55,\n",
       " 89,\n",
       " 144,\n",
       " 233,\n",
       " 377,\n",
       " 610,\n",
       " 987,\n",
       " 1597,\n",
       " 2584,\n",
       " 4181,\n",
       " 6765]"
      ]
     },
     "execution_count": 9,
     "metadata": {},
     "output_type": "execute_result"
    }
   ],
   "source": [
    "fibonacci(21)"
   ]
  },
  {
   "cell_type": "code",
   "execution_count": null,
   "id": "3e6ef64d-e817-48af-a802-c8f86f332d59",
   "metadata": {},
   "outputs": [],
   "source": []
  }
 ],
 "metadata": {
  "kernelspec": {
   "display_name": "anaconda-2022.05-py39",
   "language": "python",
   "name": "conda-env-anaconda-2022.05-py39-py"
  },
  "language_info": {
   "codemirror_mode": {
    "name": "ipython",
    "version": 3
   },
   "file_extension": ".py",
   "mimetype": "text/x-python",
   "name": "python",
   "nbconvert_exporter": "python",
   "pygments_lexer": "ipython3",
   "version": "3.9.12"
  }
 },
 "nbformat": 4,
 "nbformat_minor": 5
}
