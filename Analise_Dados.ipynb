{
 "cells": [
  {
   "cell_type": "markdown",
   "id": "b411d7bf-a671-43ba-8989-30acc4b470db",
   "metadata": {},
   "source": [
    "## Análise de Faturamento"
   ]
  },
  {
   "cell_type": "code",
   "execution_count": 20,
   "id": "78a27d3d-e85b-4400-a1fa-99ec6c6c8ef0",
   "metadata": {},
   "outputs": [],
   "source": [
    "# Importação de Bibliotecas do Projeto\n",
    "import json\n",
    "import pandas as pd"
   ]
  },
  {
   "cell_type": "code",
   "execution_count": 16,
   "id": "3e6ef64d-e817-48af-a802-c8f86f332d59",
   "metadata": {},
   "outputs": [],
   "source": [
    "with open(\"dados.json\", encoding='utf-8') as meu_json: #Inicializando a base em formato Json\n",
    "    dados = json.load(meu_json)"
   ]
  },
  {
   "cell_type": "code",
   "execution_count": 17,
   "id": "1740e986-ddaa-47bc-8954-4a98dbb599ca",
   "metadata": {},
   "outputs": [
    {
     "name": "stdout",
     "output_type": "stream",
     "text": [
      "[{'dia': 1, 'valor': 22174.1664}, {'dia': 2, 'valor': 24537.6698}, {'dia': 3, 'valor': 26139.6134}, {'dia': 4, 'valor': 0.0}, {'dia': 5, 'valor': 0.0}, {'dia': 6, 'valor': 26742.6612}, {'dia': 7, 'valor': 0.0}, {'dia': 8, 'valor': 42889.2258}, {'dia': 9, 'valor': 46251.174}, {'dia': 10, 'valor': 11191.4722}, {'dia': 11, 'valor': 0.0}, {'dia': 12, 'valor': 0.0}, {'dia': 13, 'valor': 3847.4823}, {'dia': 14, 'valor': 373.7838}, {'dia': 15, 'valor': 2659.7563}, {'dia': 16, 'valor': 48924.2448}, {'dia': 17, 'valor': 18419.2614}, {'dia': 18, 'valor': 0.0}, {'dia': 19, 'valor': 0.0}, {'dia': 20, 'valor': 35240.1826}, {'dia': 21, 'valor': 43829.1667}, {'dia': 22, 'valor': 18235.6852}, {'dia': 23, 'valor': 4355.0662}, {'dia': 24, 'valor': 13327.1025}, {'dia': 25, 'valor': 0.0}, {'dia': 26, 'valor': 0.0}, {'dia': 27, 'valor': 25681.8318}, {'dia': 28, 'valor': 1718.1221}, {'dia': 29, 'valor': 13220.495}, {'dia': 30, 'valor': 8414.61}]\n"
     ]
    }
   ],
   "source": [
    "print(dados) #Analisando os dados em json"
   ]
  },
  {
   "cell_type": "code",
   "execution_count": 21,
   "id": "bb345c09-8035-429e-9ac7-f957ffd1a6f4",
   "metadata": {},
   "outputs": [],
   "source": [
    "df = pd.DataFrame (dados) # Convertendo os dados de Json para dataframe com auxilio do pandas"
   ]
  },
  {
   "cell_type": "code",
   "execution_count": 22,
   "id": "9527e618-adcb-499e-adef-476d5d5c5cd5",
   "metadata": {},
   "outputs": [
    {
     "data": {
      "text/html": [
       "<div>\n",
       "<style scoped>\n",
       "    .dataframe tbody tr th:only-of-type {\n",
       "        vertical-align: middle;\n",
       "    }\n",
       "\n",
       "    .dataframe tbody tr th {\n",
       "        vertical-align: top;\n",
       "    }\n",
       "\n",
       "    .dataframe thead th {\n",
       "        text-align: right;\n",
       "    }\n",
       "</style>\n",
       "<table border=\"1\" class=\"dataframe\">\n",
       "  <thead>\n",
       "    <tr style=\"text-align: right;\">\n",
       "      <th></th>\n",
       "      <th>dia</th>\n",
       "      <th>valor</th>\n",
       "    </tr>\n",
       "  </thead>\n",
       "  <tbody>\n",
       "    <tr>\n",
       "      <th>0</th>\n",
       "      <td>1</td>\n",
       "      <td>22174.1664</td>\n",
       "    </tr>\n",
       "    <tr>\n",
       "      <th>1</th>\n",
       "      <td>2</td>\n",
       "      <td>24537.6698</td>\n",
       "    </tr>\n",
       "    <tr>\n",
       "      <th>2</th>\n",
       "      <td>3</td>\n",
       "      <td>26139.6134</td>\n",
       "    </tr>\n",
       "    <tr>\n",
       "      <th>3</th>\n",
       "      <td>4</td>\n",
       "      <td>0.0000</td>\n",
       "    </tr>\n",
       "    <tr>\n",
       "      <th>4</th>\n",
       "      <td>5</td>\n",
       "      <td>0.0000</td>\n",
       "    </tr>\n",
       "    <tr>\n",
       "      <th>5</th>\n",
       "      <td>6</td>\n",
       "      <td>26742.6612</td>\n",
       "    </tr>\n",
       "    <tr>\n",
       "      <th>6</th>\n",
       "      <td>7</td>\n",
       "      <td>0.0000</td>\n",
       "    </tr>\n",
       "    <tr>\n",
       "      <th>7</th>\n",
       "      <td>8</td>\n",
       "      <td>42889.2258</td>\n",
       "    </tr>\n",
       "    <tr>\n",
       "      <th>8</th>\n",
       "      <td>9</td>\n",
       "      <td>46251.1740</td>\n",
       "    </tr>\n",
       "    <tr>\n",
       "      <th>9</th>\n",
       "      <td>10</td>\n",
       "      <td>11191.4722</td>\n",
       "    </tr>\n",
       "    <tr>\n",
       "      <th>10</th>\n",
       "      <td>11</td>\n",
       "      <td>0.0000</td>\n",
       "    </tr>\n",
       "    <tr>\n",
       "      <th>11</th>\n",
       "      <td>12</td>\n",
       "      <td>0.0000</td>\n",
       "    </tr>\n",
       "    <tr>\n",
       "      <th>12</th>\n",
       "      <td>13</td>\n",
       "      <td>3847.4823</td>\n",
       "    </tr>\n",
       "    <tr>\n",
       "      <th>13</th>\n",
       "      <td>14</td>\n",
       "      <td>373.7838</td>\n",
       "    </tr>\n",
       "    <tr>\n",
       "      <th>14</th>\n",
       "      <td>15</td>\n",
       "      <td>2659.7563</td>\n",
       "    </tr>\n",
       "    <tr>\n",
       "      <th>15</th>\n",
       "      <td>16</td>\n",
       "      <td>48924.2448</td>\n",
       "    </tr>\n",
       "    <tr>\n",
       "      <th>16</th>\n",
       "      <td>17</td>\n",
       "      <td>18419.2614</td>\n",
       "    </tr>\n",
       "    <tr>\n",
       "      <th>17</th>\n",
       "      <td>18</td>\n",
       "      <td>0.0000</td>\n",
       "    </tr>\n",
       "    <tr>\n",
       "      <th>18</th>\n",
       "      <td>19</td>\n",
       "      <td>0.0000</td>\n",
       "    </tr>\n",
       "    <tr>\n",
       "      <th>19</th>\n",
       "      <td>20</td>\n",
       "      <td>35240.1826</td>\n",
       "    </tr>\n",
       "    <tr>\n",
       "      <th>20</th>\n",
       "      <td>21</td>\n",
       "      <td>43829.1667</td>\n",
       "    </tr>\n",
       "    <tr>\n",
       "      <th>21</th>\n",
       "      <td>22</td>\n",
       "      <td>18235.6852</td>\n",
       "    </tr>\n",
       "    <tr>\n",
       "      <th>22</th>\n",
       "      <td>23</td>\n",
       "      <td>4355.0662</td>\n",
       "    </tr>\n",
       "    <tr>\n",
       "      <th>23</th>\n",
       "      <td>24</td>\n",
       "      <td>13327.1025</td>\n",
       "    </tr>\n",
       "    <tr>\n",
       "      <th>24</th>\n",
       "      <td>25</td>\n",
       "      <td>0.0000</td>\n",
       "    </tr>\n",
       "    <tr>\n",
       "      <th>25</th>\n",
       "      <td>26</td>\n",
       "      <td>0.0000</td>\n",
       "    </tr>\n",
       "    <tr>\n",
       "      <th>26</th>\n",
       "      <td>27</td>\n",
       "      <td>25681.8318</td>\n",
       "    </tr>\n",
       "    <tr>\n",
       "      <th>27</th>\n",
       "      <td>28</td>\n",
       "      <td>1718.1221</td>\n",
       "    </tr>\n",
       "    <tr>\n",
       "      <th>28</th>\n",
       "      <td>29</td>\n",
       "      <td>13220.4950</td>\n",
       "    </tr>\n",
       "    <tr>\n",
       "      <th>29</th>\n",
       "      <td>30</td>\n",
       "      <td>8414.6100</td>\n",
       "    </tr>\n",
       "  </tbody>\n",
       "</table>\n",
       "</div>"
      ],
      "text/plain": [
       "    dia       valor\n",
       "0     1  22174.1664\n",
       "1     2  24537.6698\n",
       "2     3  26139.6134\n",
       "3     4      0.0000\n",
       "4     5      0.0000\n",
       "5     6  26742.6612\n",
       "6     7      0.0000\n",
       "7     8  42889.2258\n",
       "8     9  46251.1740\n",
       "9    10  11191.4722\n",
       "10   11      0.0000\n",
       "11   12      0.0000\n",
       "12   13   3847.4823\n",
       "13   14    373.7838\n",
       "14   15   2659.7563\n",
       "15   16  48924.2448\n",
       "16   17  18419.2614\n",
       "17   18      0.0000\n",
       "18   19      0.0000\n",
       "19   20  35240.1826\n",
       "20   21  43829.1667\n",
       "21   22  18235.6852\n",
       "22   23   4355.0662\n",
       "23   24  13327.1025\n",
       "24   25      0.0000\n",
       "25   26      0.0000\n",
       "26   27  25681.8318\n",
       "27   28   1718.1221\n",
       "28   29  13220.4950\n",
       "29   30   8414.6100"
      ]
     },
     "execution_count": 22,
     "metadata": {},
     "output_type": "execute_result"
    }
   ],
   "source": [
    "df # Analisando os dados em dataframe"
   ]
  },
  {
   "cell_type": "code",
   "execution_count": 34,
   "id": "298ab90c-d196-496d-928e-2ab11729899c",
   "metadata": {
    "tags": []
   },
   "outputs": [],
   "source": [
    "index = df[(df.valor == 0)].index #Coletando as indexações com valores zerados"
   ]
  },
  {
   "cell_type": "code",
   "execution_count": 35,
   "id": "d7a3c420-3773-463c-ab41-c290c3883a4f",
   "metadata": {},
   "outputs": [],
   "source": [
    "df.drop(index, inplace=True) # Droppando as linhas conforme indexação feita acima"
   ]
  },
  {
   "cell_type": "code",
   "execution_count": 36,
   "id": "5b490fa1-66fd-4193-8e12-8681dcf9249d",
   "metadata": {},
   "outputs": [
    {
     "data": {
      "text/html": [
       "<div>\n",
       "<style scoped>\n",
       "    .dataframe tbody tr th:only-of-type {\n",
       "        vertical-align: middle;\n",
       "    }\n",
       "\n",
       "    .dataframe tbody tr th {\n",
       "        vertical-align: top;\n",
       "    }\n",
       "\n",
       "    .dataframe thead th {\n",
       "        text-align: right;\n",
       "    }\n",
       "</style>\n",
       "<table border=\"1\" class=\"dataframe\">\n",
       "  <thead>\n",
       "    <tr style=\"text-align: right;\">\n",
       "      <th></th>\n",
       "      <th>dia</th>\n",
       "      <th>valor</th>\n",
       "    </tr>\n",
       "  </thead>\n",
       "  <tbody>\n",
       "    <tr>\n",
       "      <th>0</th>\n",
       "      <td>1</td>\n",
       "      <td>22174.1664</td>\n",
       "    </tr>\n",
       "    <tr>\n",
       "      <th>1</th>\n",
       "      <td>2</td>\n",
       "      <td>24537.6698</td>\n",
       "    </tr>\n",
       "    <tr>\n",
       "      <th>2</th>\n",
       "      <td>3</td>\n",
       "      <td>26139.6134</td>\n",
       "    </tr>\n",
       "    <tr>\n",
       "      <th>5</th>\n",
       "      <td>6</td>\n",
       "      <td>26742.6612</td>\n",
       "    </tr>\n",
       "    <tr>\n",
       "      <th>7</th>\n",
       "      <td>8</td>\n",
       "      <td>42889.2258</td>\n",
       "    </tr>\n",
       "    <tr>\n",
       "      <th>8</th>\n",
       "      <td>9</td>\n",
       "      <td>46251.1740</td>\n",
       "    </tr>\n",
       "    <tr>\n",
       "      <th>9</th>\n",
       "      <td>10</td>\n",
       "      <td>11191.4722</td>\n",
       "    </tr>\n",
       "    <tr>\n",
       "      <th>12</th>\n",
       "      <td>13</td>\n",
       "      <td>3847.4823</td>\n",
       "    </tr>\n",
       "    <tr>\n",
       "      <th>13</th>\n",
       "      <td>14</td>\n",
       "      <td>373.7838</td>\n",
       "    </tr>\n",
       "    <tr>\n",
       "      <th>14</th>\n",
       "      <td>15</td>\n",
       "      <td>2659.7563</td>\n",
       "    </tr>\n",
       "    <tr>\n",
       "      <th>15</th>\n",
       "      <td>16</td>\n",
       "      <td>48924.2448</td>\n",
       "    </tr>\n",
       "    <tr>\n",
       "      <th>16</th>\n",
       "      <td>17</td>\n",
       "      <td>18419.2614</td>\n",
       "    </tr>\n",
       "    <tr>\n",
       "      <th>19</th>\n",
       "      <td>20</td>\n",
       "      <td>35240.1826</td>\n",
       "    </tr>\n",
       "    <tr>\n",
       "      <th>20</th>\n",
       "      <td>21</td>\n",
       "      <td>43829.1667</td>\n",
       "    </tr>\n",
       "    <tr>\n",
       "      <th>21</th>\n",
       "      <td>22</td>\n",
       "      <td>18235.6852</td>\n",
       "    </tr>\n",
       "    <tr>\n",
       "      <th>22</th>\n",
       "      <td>23</td>\n",
       "      <td>4355.0662</td>\n",
       "    </tr>\n",
       "    <tr>\n",
       "      <th>23</th>\n",
       "      <td>24</td>\n",
       "      <td>13327.1025</td>\n",
       "    </tr>\n",
       "    <tr>\n",
       "      <th>26</th>\n",
       "      <td>27</td>\n",
       "      <td>25681.8318</td>\n",
       "    </tr>\n",
       "    <tr>\n",
       "      <th>27</th>\n",
       "      <td>28</td>\n",
       "      <td>1718.1221</td>\n",
       "    </tr>\n",
       "    <tr>\n",
       "      <th>28</th>\n",
       "      <td>29</td>\n",
       "      <td>13220.4950</td>\n",
       "    </tr>\n",
       "    <tr>\n",
       "      <th>29</th>\n",
       "      <td>30</td>\n",
       "      <td>8414.6100</td>\n",
       "    </tr>\n",
       "  </tbody>\n",
       "</table>\n",
       "</div>"
      ],
      "text/plain": [
       "    dia       valor\n",
       "0     1  22174.1664\n",
       "1     2  24537.6698\n",
       "2     3  26139.6134\n",
       "5     6  26742.6612\n",
       "7     8  42889.2258\n",
       "8     9  46251.1740\n",
       "9    10  11191.4722\n",
       "12   13   3847.4823\n",
       "13   14    373.7838\n",
       "14   15   2659.7563\n",
       "15   16  48924.2448\n",
       "16   17  18419.2614\n",
       "19   20  35240.1826\n",
       "20   21  43829.1667\n",
       "21   22  18235.6852\n",
       "22   23   4355.0662\n",
       "23   24  13327.1025\n",
       "26   27  25681.8318\n",
       "27   28   1718.1221\n",
       "28   29  13220.4950\n",
       "29   30   8414.6100"
      ]
     },
     "execution_count": 36,
     "metadata": {},
     "output_type": "execute_result"
    }
   ],
   "source": [
    "df #Verificando os dados tratados"
   ]
  },
  {
   "cell_type": "code",
   "execution_count": 37,
   "id": "4f1f05d3-1de7-46f9-aab0-bc5cac9fdb95",
   "metadata": {},
   "outputs": [
    {
     "name": "stdout",
     "output_type": "stream",
     "text": [
      "O maior valor de faturamento encontrado é: 48924.2448\n"
     ]
    }
   ],
   "source": [
    "print(\"O maior valor de faturamento encontrado é:\", max(df.valor))"
   ]
  },
  {
   "cell_type": "code",
   "execution_count": 38,
   "id": "f8024db5-2df1-46d4-943c-87a3d8970e02",
   "metadata": {},
   "outputs": [
    {
     "name": "stdout",
     "output_type": "stream",
     "text": [
      "O menor valor de faturamento encontrado é: 373.7838\n"
     ]
    }
   ],
   "source": [
    "print(\"O menor valor de faturamento encontrado é:\", min(df.valor))"
   ]
  },
  {
   "cell_type": "code",
   "execution_count": 40,
   "id": "87c269fd-5da0-4bc9-890c-d1a9375c8215",
   "metadata": {
    "tags": []
   },
   "outputs": [
    {
     "name": "stdout",
     "output_type": "stream",
     "text": [
      "A Média do Mês é: 20865.370166666664\n"
     ]
    }
   ],
   "source": [
    "print(\"A Média do Mês é:\", df['valor'].mean())"
   ]
  },
  {
   "cell_type": "code",
   "execution_count": 41,
   "id": "986985e2-b1ef-4e2d-80a8-ab295f0bae79",
   "metadata": {},
   "outputs": [],
   "source": [
    "media = df['valor'].mean()"
   ]
  },
  {
   "cell_type": "markdown",
   "id": "c1b63916-a851-43fc-9108-4e8c4cc93fe0",
   "metadata": {},
   "source": [
    "## Dias com Faturamento Acima da Média"
   ]
  },
  {
   "cell_type": "code",
   "execution_count": 99,
   "id": "db6f9cef-b8d0-40ad-9bd0-25446b69d5f9",
   "metadata": {
    "tags": []
   },
   "outputs": [],
   "source": [
    "acima_media = []\n",
    "count = 0\n",
    "for i in df['valor']:\n",
    "    if i > media:\n",
    "        acima_media.append(count)\n",
    "    count=count+1"
   ]
  },
  {
   "cell_type": "code",
   "execution_count": 100,
   "id": "f1f5e236-70bc-4f7f-a645-8999a76e1aab",
   "metadata": {},
   "outputs": [],
   "source": [
    "lista_index = []\n",
    "for j in acima_media:\n",
    "    lista_index.append(df['dia'].index[j])"
   ]
  },
  {
   "cell_type": "code",
   "execution_count": 101,
   "id": "121b0640-8fe8-4eef-9959-c83a45de4c1d",
   "metadata": {},
   "outputs": [],
   "source": [
    "dias_acima_media = []\n",
    "for l in lista_index:\n",
    "    dias_acima_media.append(df['dia'][l])"
   ]
  },
  {
   "cell_type": "code",
   "execution_count": 102,
   "id": "4b479859-a9ff-441f-9e05-c94a7451c51d",
   "metadata": {},
   "outputs": [
    {
     "name": "stdout",
     "output_type": "stream",
     "text": [
      "Os dias com faturamento acima da média foram: [1, 2, 3, 6, 8, 9, 16, 20, 21, 27]\n"
     ]
    }
   ],
   "source": [
    "print(\"Os dias com faturamento acima da média foram:\", dias_acima_media)"
   ]
  },
  {
   "cell_type": "markdown",
   "id": "cb289af7-b9ab-4618-a621-9851d0efcb29",
   "metadata": {},
   "source": [
    "## Percetual de Faturamento por Estado"
   ]
  },
  {
   "cell_type": "code",
   "execution_count": 123,
   "id": "92ee2f5d-df64-4ac1-bb61-aa3cb55f97f7",
   "metadata": {},
   "outputs": [],
   "source": [
    "dados = [['SP', 67836.43] ,['RJ', 36678.66] ,['MG', 29229.88] ,['ES', 27165.48] ,['Outros', 19849.53] ]\n",
    "df_faturamento = pd.DataFrame(dados, columns=['Estado', 'Faturamento'])"
   ]
  },
  {
   "cell_type": "code",
   "execution_count": 124,
   "id": "21469525-26e1-43d4-b9d4-cf2e00d39941",
   "metadata": {},
   "outputs": [
    {
     "data": {
      "text/html": [
       "<div>\n",
       "<style scoped>\n",
       "    .dataframe tbody tr th:only-of-type {\n",
       "        vertical-align: middle;\n",
       "    }\n",
       "\n",
       "    .dataframe tbody tr th {\n",
       "        vertical-align: top;\n",
       "    }\n",
       "\n",
       "    .dataframe thead th {\n",
       "        text-align: right;\n",
       "    }\n",
       "</style>\n",
       "<table border=\"1\" class=\"dataframe\">\n",
       "  <thead>\n",
       "    <tr style=\"text-align: right;\">\n",
       "      <th></th>\n",
       "      <th>Estado</th>\n",
       "      <th>Faturamento</th>\n",
       "    </tr>\n",
       "  </thead>\n",
       "  <tbody>\n",
       "    <tr>\n",
       "      <th>0</th>\n",
       "      <td>SP</td>\n",
       "      <td>67836.43</td>\n",
       "    </tr>\n",
       "    <tr>\n",
       "      <th>1</th>\n",
       "      <td>RJ</td>\n",
       "      <td>36678.66</td>\n",
       "    </tr>\n",
       "    <tr>\n",
       "      <th>2</th>\n",
       "      <td>MG</td>\n",
       "      <td>29229.88</td>\n",
       "    </tr>\n",
       "    <tr>\n",
       "      <th>3</th>\n",
       "      <td>ES</td>\n",
       "      <td>27165.48</td>\n",
       "    </tr>\n",
       "    <tr>\n",
       "      <th>4</th>\n",
       "      <td>Outros</td>\n",
       "      <td>19849.53</td>\n",
       "    </tr>\n",
       "  </tbody>\n",
       "</table>\n",
       "</div>"
      ],
      "text/plain": [
       "   Estado  Faturamento\n",
       "0      SP     67836.43\n",
       "1      RJ     36678.66\n",
       "2      MG     29229.88\n",
       "3      ES     27165.48\n",
       "4  Outros     19849.53"
      ]
     },
     "execution_count": 124,
     "metadata": {},
     "output_type": "execute_result"
    }
   ],
   "source": [
    "df_faturamento"
   ]
  },
  {
   "cell_type": "code",
   "execution_count": 127,
   "id": "aeb49221-211e-4514-8bc2-67efc532a680",
   "metadata": {},
   "outputs": [],
   "source": [
    "total = sum(df_faturamento['Faturamento'])"
   ]
  },
  {
   "cell_type": "code",
   "execution_count": 128,
   "id": "d10f16c8-cf4f-4aaf-80b3-bf2dad15b19c",
   "metadata": {},
   "outputs": [
    {
     "data": {
      "text/plain": [
       "180759.98"
      ]
     },
     "execution_count": 128,
     "metadata": {},
     "output_type": "execute_result"
    }
   ],
   "source": [
    "total"
   ]
  },
  {
   "cell_type": "code",
   "execution_count": 133,
   "id": "502c1ab7-2556-4138-a8a3-4b84408cbecd",
   "metadata": {},
   "outputs": [],
   "source": [
    "per = []\n",
    "for fat in df_faturamento['Faturamento']:\n",
    "    per.append((fat / total)*100)"
   ]
  },
  {
   "cell_type": "code",
   "execution_count": 134,
   "id": "b3e67a0b-3afa-42a7-ac40-af1eca784c8f",
   "metadata": {},
   "outputs": [
    {
     "data": {
      "text/plain": [
       "[37.52845624346716,\n",
       " 20.291360952794975,\n",
       " 16.170548370275323,\n",
       " 15.028481414968068,\n",
       " 10.981153018494469]"
      ]
     },
     "execution_count": 134,
     "metadata": {},
     "output_type": "execute_result"
    }
   ],
   "source": [
    "per"
   ]
  },
  {
   "cell_type": "code",
   "execution_count": 135,
   "id": "a2bae594-1b90-4b2a-88ac-1ffc06e88023",
   "metadata": {},
   "outputs": [],
   "source": [
    "df_faturamento['Percentual'] = per"
   ]
  },
  {
   "cell_type": "code",
   "execution_count": 136,
   "id": "4a84230b-0239-46ff-9065-89bda7d8cb04",
   "metadata": {},
   "outputs": [
    {
     "data": {
      "text/html": [
       "<div>\n",
       "<style scoped>\n",
       "    .dataframe tbody tr th:only-of-type {\n",
       "        vertical-align: middle;\n",
       "    }\n",
       "\n",
       "    .dataframe tbody tr th {\n",
       "        vertical-align: top;\n",
       "    }\n",
       "\n",
       "    .dataframe thead th {\n",
       "        text-align: right;\n",
       "    }\n",
       "</style>\n",
       "<table border=\"1\" class=\"dataframe\">\n",
       "  <thead>\n",
       "    <tr style=\"text-align: right;\">\n",
       "      <th></th>\n",
       "      <th>Estado</th>\n",
       "      <th>Faturamento</th>\n",
       "      <th>Percentual</th>\n",
       "    </tr>\n",
       "  </thead>\n",
       "  <tbody>\n",
       "    <tr>\n",
       "      <th>0</th>\n",
       "      <td>SP</td>\n",
       "      <td>67836.43</td>\n",
       "      <td>37.528456</td>\n",
       "    </tr>\n",
       "    <tr>\n",
       "      <th>1</th>\n",
       "      <td>RJ</td>\n",
       "      <td>36678.66</td>\n",
       "      <td>20.291361</td>\n",
       "    </tr>\n",
       "    <tr>\n",
       "      <th>2</th>\n",
       "      <td>MG</td>\n",
       "      <td>29229.88</td>\n",
       "      <td>16.170548</td>\n",
       "    </tr>\n",
       "    <tr>\n",
       "      <th>3</th>\n",
       "      <td>ES</td>\n",
       "      <td>27165.48</td>\n",
       "      <td>15.028481</td>\n",
       "    </tr>\n",
       "    <tr>\n",
       "      <th>4</th>\n",
       "      <td>Outros</td>\n",
       "      <td>19849.53</td>\n",
       "      <td>10.981153</td>\n",
       "    </tr>\n",
       "  </tbody>\n",
       "</table>\n",
       "</div>"
      ],
      "text/plain": [
       "   Estado  Faturamento  Percentual\n",
       "0      SP     67836.43   37.528456\n",
       "1      RJ     36678.66   20.291361\n",
       "2      MG     29229.88   16.170548\n",
       "3      ES     27165.48   15.028481\n",
       "4  Outros     19849.53   10.981153"
      ]
     },
     "execution_count": 136,
     "metadata": {},
     "output_type": "execute_result"
    }
   ],
   "source": [
    "df_faturamento"
   ]
  },
  {
   "cell_type": "markdown",
   "id": "7a8c1465-8539-45d3-8995-88e31cd02833",
   "metadata": {},
   "source": [
    "## FIM"
   ]
  }
 ],
 "metadata": {
  "kernelspec": {
   "display_name": "anaconda-2022.05-py39",
   "language": "python",
   "name": "conda-env-anaconda-2022.05-py39-py"
  },
  "language_info": {
   "codemirror_mode": {
    "name": "ipython",
    "version": 3
   },
   "file_extension": ".py",
   "mimetype": "text/x-python",
   "name": "python",
   "nbconvert_exporter": "python",
   "pygments_lexer": "ipython3",
   "version": "3.9.12"
  }
 },
 "nbformat": 4,
 "nbformat_minor": 5
}
