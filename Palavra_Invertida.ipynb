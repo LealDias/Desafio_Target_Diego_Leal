{
 "cells": [
  {
   "cell_type": "markdown",
   "id": "59614ad7-146d-4d22-b293-1cda73e0baf3",
   "metadata": {},
   "source": [
    "## Inversor de Palavras"
   ]
  },
  {
   "cell_type": "code",
   "execution_count": 2,
   "id": "538d3f4d-3148-4362-9738-7f760ed02b12",
   "metadata": {},
   "outputs": [
    {
     "name": "stdin",
     "output_type": "stream",
     "text": [
      "Digite qualquer palavra:  acetona\n"
     ]
    },
    {
     "name": "stdout",
     "output_type": "stream",
     "text": [
      "A palavra invertida é: anoteca\n"
     ]
    }
   ],
   "source": [
    "palavra = input(\"Digite qualquer palavra: \")\n",
    "inverso = palavra[::-1] # Utilizando o slicing para inverter a indexação da palavra\n",
    "print(\"A palavra invertida é:\", inverso)"
   ]
  },
  {
   "cell_type": "markdown",
   "id": "2ecd3609-fe86-4147-aac1-521d3fa317e8",
   "metadata": {},
   "source": [
    "## FIM"
   ]
  }
 ],
 "metadata": {
  "kernelspec": {
   "display_name": "anaconda-2022.05-py39",
   "language": "python",
   "name": "conda-env-anaconda-2022.05-py39-py"
  },
  "language_info": {
   "codemirror_mode": {
    "name": "ipython",
    "version": 3
   },
   "file_extension": ".py",
   "mimetype": "text/x-python",
   "name": "python",
   "nbconvert_exporter": "python",
   "pygments_lexer": "ipython3",
   "version": "3.9.12"
  }
 },
 "nbformat": 4,
 "nbformat_minor": 5
}
